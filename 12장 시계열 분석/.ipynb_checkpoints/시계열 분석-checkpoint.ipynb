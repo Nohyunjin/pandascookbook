{
 "cells": [
  {
   "cell_type": "markdown",
   "id": "d99d5ee8",
   "metadata": {},
   "source": [
    "# 시계열 분석"
   ]
  },
  {
   "cell_type": "markdown",
   "id": "07bd4b5d",
   "metadata": {},
   "source": [
    "## 파이썬과 pandas 날짜 도구의 차이점 이해"
   ]
  },
  {
   "cell_type": "markdown",
   "id": "a7e72441",
   "metadata": {},
   "source": [
    "- 파이썬 datetime 모듈\n",
    " - date, time, datetime.\n",
    " - date : 연도, 월, 일로 구성된 어느 순간.\n",
    " - time : 시, 분, 초와 마이크로초.\n",
    " - datetime : date와 time 요소의 합."
   ]
  },
  {
   "cell_type": "markdown",
   "id": "07d65ea6",
   "metadata": {},
   "source": [
    "- pandas Timestamp\n",
    " - 나노초(십업 분의 1초)의 정밀도.\n",
    " - NumPy의 datetime64 데이터 형식에서 파생."
   ]
  },
  {
   "cell_type": "markdown",
   "id": "5ddeb8c7",
   "metadata": {},
   "source": [
    "- 파이썬과 pandas는 각각 날짜를 더하고 뺄 때 유용한 timedelta 객체가 있음."
   ]
  },
  {
   "cell_type": "code",
   "execution_count": 7,
   "id": "0bd55f1d",
   "metadata": {},
   "outputs": [],
   "source": [
    "import pandas as pd\n",
    "import numpy as np\n",
    "import datetime"
   ]
  },
  {
   "cell_type": "code",
   "execution_count": 1,
   "id": "912fa3c1",
   "metadata": {},
   "outputs": [
    {
     "name": "stdout",
     "output_type": "stream",
     "text": [
      "date is 2013-06-07\n",
      "time is 12:30:19.463198\n",
      "datetime is 2013-06-07 12:30:19.463198\n"
     ]
    }
   ],
   "source": [
    "#파이썬의 date, time, datetime 객체\n",
    "\n",
    "date = datetime.date(year = 2013, month = 6, day = 7)\n",
    "time = datetime.time(hour = 12, minute = 30, second = 19, microsecond = 463198)\n",
    "dt = datetime.datetime(year = 2013, month = 6, day = 7, \n",
    "                       hour = 12, minute = 30, second = 19, microsecond = 463198)\n",
    "\n",
    "print(f\"date is {date}\")\n",
    "\n",
    "print(f\"time is {time}\")\n",
    "\n",
    "print(f\"datetime is {dt}\")"
   ]
  },
  {
   "cell_type": "code",
   "execution_count": 8,
   "id": "2f574753",
   "metadata": {},
   "outputs": [
    {
     "data": {
      "text/plain": [
       "datetime.timedelta(days=19, seconds=37206, microseconds=829008)"
      ]
     },
     "execution_count": 8,
     "metadata": {},
     "output_type": "execute_result"
    }
   ],
   "source": [
    "#timedelta 객체 생성\n",
    "\n",
    "td = datetime.timedelta(weeks = 2, days = 5, hours = 10,\n",
    "                       minutes = 20, seconds = 6.73, milliseconds = 99, microseconds = 8)\n",
    "td"
   ]
  },
  {
   "cell_type": "code",
   "execution_count": 4,
   "id": "ddd6d100",
   "metadata": {},
   "outputs": [
    {
     "name": "stdout",
     "output_type": "stream",
     "text": [
      "new date is 2013-06-26\n",
      "new datetime is 2013-06-26 22:50:26.292206\n"
     ]
    }
   ],
   "source": [
    "#td를 1단계의 date와 td 객체에 덧셈\n",
    "\n",
    "print(f\"new date is {date + td}\")\n",
    "\n",
    "print(f\"new datetime is {dt + td}\")"
   ]
  },
  {
   "cell_type": "code",
   "execution_count": 5,
   "id": "1da3d475",
   "metadata": {},
   "outputs": [
    {
     "ename": "TypeError",
     "evalue": "unsupported operand type(s) for +: 'datetime.time' and 'datetime.timedelta'",
     "output_type": "error",
     "traceback": [
      "\u001b[1;31m---------------------------------------------------------------------------\u001b[0m",
      "\u001b[1;31mTypeError\u001b[0m                                 Traceback (most recent call last)",
      "\u001b[1;32m~\\AppData\\Local\\Temp/ipykernel_10780/2862017551.py\u001b[0m in \u001b[0;36m<module>\u001b[1;34m\u001b[0m\n\u001b[1;32m----> 1\u001b[1;33m \u001b[0mtime\u001b[0m \u001b[1;33m+\u001b[0m \u001b[0mtd\u001b[0m\u001b[1;33m\u001b[0m\u001b[1;33m\u001b[0m\u001b[0m\n\u001b[0m",
      "\u001b[1;31mTypeError\u001b[0m: unsupported operand type(s) for +: 'datetime.time' and 'datetime.timedelta'"
     ]
    }
   ],
   "source": [
    "#근데 timedelta와 time 객체를 더하면 오류가 발생.\n",
    "\n",
    "time + td"
   ]
  },
  {
   "cell_type": "code",
   "execution_count": 13,
   "id": "219022ce",
   "metadata": {},
   "outputs": [
    {
     "name": "stdout",
     "output_type": "stream",
     "text": [
      "2016-01-10 00:00:00\n",
      "2016-05-10 00:00:00\n",
      "2019-01-03 20:45:33\n",
      "2016-01-05 05:34:43.123456789\n"
     ]
    }
   ],
   "source": [
    "#pandas의 Timestamp 객체\n",
    "\n",
    "pd.Timestamp(year = 2012, month = 12, day = 21, hour = 5,\n",
    "            minute = 10, second = 8, microsecond = 99)\n",
    "\n",
    "print(pd.Timestamp('2016/1/10'))\n",
    "print(pd.Timestamp('2016-5/10'))\n",
    "print(pd.Timestamp('Jan 3, 2019 20:45.56'))\n",
    "print(pd.Timestamp('2016-1-05T05:34:43.123456789'))"
   ]
  },
  {
   "cell_type": "code",
   "execution_count": 21,
   "id": "94d87d97",
   "metadata": {},
   "outputs": [
    {
     "name": "stdout",
     "output_type": "stream",
     "text": [
      "1970-01-01 00:00:00\n",
      "1970-01-01 00:00:00.000000500\n",
      "1970-01-01 00:00:00.000005\n",
      "1983-09-10 00:00:00\n"
     ]
    }
   ],
   "source": [
    "#단일 정수나 부동소수점수를 Timestamp 생성자에 전달 할 수 있음.\n",
    "\n",
    "print(pd.Timestamp(0))\n",
    "print(pd.Timestamp(500))\n",
    "print(pd.Timestamp(5000))\n",
    "print(pd.Timestamp(5000, unit = 'D'))"
   ]
  },
  {
   "cell_type": "code",
   "execution_count": 25,
   "id": "b7408e67",
   "metadata": {},
   "outputs": [
    {
     "name": "stdout",
     "output_type": "stream",
     "text": [
      "2015-05-13 00:00:00\n",
      "2015-05-13 00:00:00\n",
      "2017-09-30 13:30:00\n",
      "2015-08-21 00:00:00\n"
     ]
    }
   ],
   "source": [
    "#Timestamp 생성자와 유사하게 작동하는 to_datetime 함수가 제공\n",
    "#DataFrame 문자열 열을 날짜로 변환하는데 유용\n",
    "\n",
    "print(pd.to_datetime(\"2015-5-13\"))\n",
    "print(pd.to_datetime(\"2015-13-5\", dayfirst = True))\n",
    "print(pd.to_datetime(\"Start Date : Sep 30, 2017 Start Time : 1:30 pm\",\n",
    "                     format = \"Start Date : %b %d, %Y Start Time : %I:%M %p\"))\n",
    "print(pd.to_datetime(100, unit = \"D\", origin = \"2015-5-13\"))"
   ]
  },
  {
   "cell_type": "code",
   "execution_count": 26,
   "id": "65fd67d5",
   "metadata": {},
   "outputs": [
    {
     "data": {
      "text/plain": [
       "0   1970-01-11\n",
       "1   1970-04-11\n",
       "2   1972-09-27\n",
       "3   1997-05-19\n",
       "dtype: datetime64[ns]"
      ]
     },
     "execution_count": 26,
     "metadata": {},
     "output_type": "execute_result"
    }
   ],
   "source": [
    "#to_datetime 함수는 전체 리스트나 문자열 Series 또는 정수를 Timestamp 객체로 변환.\n",
    "#단일 스칼라 값보다는 Series나 DataFrame과 상호작용할 가능성이 훨씬 높음.\n",
    "\n",
    "s = pd.Series([10, 100, 1000, 10000])\n",
    "pd.to_datetime(s, unit = \"D\")"
   ]
  },
  {
   "cell_type": "code",
   "execution_count": 27,
   "id": "2e8e0d6e",
   "metadata": {},
   "outputs": [
    {
     "data": {
      "text/plain": [
       "0   2015-05-12\n",
       "1   2013-01-14\n",
       "2   2017-12-20\n",
       "3          NaT\n",
       "dtype: datetime64[ns]"
      ]
     },
     "execution_count": 27,
     "metadata": {},
     "output_type": "execute_result"
    }
   ],
   "source": [
    "s = pd.Series(['12-5-2015', '14-1-2013', '20/12/2017', '40/23/2017'])\n",
    "pd.to_datetime(s, dayfirst = True, errors = 'coerce')"
   ]
  },
  {
   "cell_type": "code",
   "execution_count": 28,
   "id": "556668e7",
   "metadata": {},
   "outputs": [
    {
     "data": {
      "text/plain": [
       "DatetimeIndex(['1999-08-03 03:45:56', '2018-10-31 00:00:00'], dtype='datetime64[ns]', freq=None)"
      ]
     },
     "execution_count": 28,
     "metadata": {},
     "output_type": "execute_result"
    }
   ],
   "source": [
    "pd.to_datetime(['Aug 3 1999 3:45:56', '10/31/2018'])"
   ]
  },
  {
   "cell_type": "code",
   "execution_count": 30,
   "id": "997a1b50",
   "metadata": {},
   "outputs": [
    {
     "name": "stdout",
     "output_type": "stream",
     "text": [
      "12 days 05:03:00.123456789\n",
      "5 days 00:07:20.400000\n",
      "700 days 00:00:00\n",
      "2 days 19:15:45.454000\n",
      "0   0 days 00:00:10\n",
      "1   0 days 00:01:40\n",
      "dtype: timedelta64[ns]\n",
      "TimedeltaIndex(['2 days 00:25:29.760000', '0 days 00:45:23.600000'], dtype='timedelta64[ns]', freq=None)\n"
     ]
    }
   ],
   "source": [
    "#pandas에는 시간량을 나타내는 Timedelta와 to_timedelta가 있음.\n",
    "#전체 리스트나 Series를 Timedelta 객체로 변환이 가능\n",
    "\n",
    "print(pd.Timedelta(\"12 days 5 hours 3 minutes 123456789 nanoseconds\"))\n",
    "print(pd.Timedelta(days = 5, minutes = 7.34))\n",
    "print(pd.Timedelta(100, unit = \"W\"))\n",
    "print(pd.to_timedelta(\"67:15:45.454\"))\n",
    "s = pd.Series([10, 100])\n",
    "print(pd.to_timedelta(s, unit = 's'))\n",
    "\n",
    "time_strings = ['2 days 24 minutes 89.76 seconds', '00:45:23.6']\n",
    "print(pd.to_timedelta(time_strings))"
   ]
  },
  {
   "cell_type": "code",
   "execution_count": 31,
   "id": "931e4686",
   "metadata": {},
   "outputs": [
    {
     "name": "stdout",
     "output_type": "stream",
     "text": [
      "24 days 10:06:00\n"
     ]
    }
   ],
   "source": [
    "#10.Timedelta는 다른 Timestamp에 더하거나 뺄 수 있음.\n",
    "\n",
    "print(pd.Timedelta('12 days 5 hours 3 minutes') * 2)"
   ]
  },
  {
   "cell_type": "code",
   "execution_count": null,
   "id": "40585a8d",
   "metadata": {},
   "outputs": [],
   "source": []
  }
 ],
 "metadata": {
  "kernelspec": {
   "display_name": "Python 3 (ipykernel)",
   "language": "python",
   "name": "python3"
  },
  "language_info": {
   "codemirror_mode": {
    "name": "ipython",
    "version": 3
   },
   "file_extension": ".py",
   "mimetype": "text/x-python",
   "name": "python",
   "nbconvert_exporter": "python",
   "pygments_lexer": "ipython3",
   "version": "3.9.7"
  },
  "toc": {
   "base_numbering": 1,
   "nav_menu": {},
   "number_sections": true,
   "sideBar": true,
   "skip_h1_title": false,
   "title_cell": "Table of Contents",
   "title_sidebar": "Contents",
   "toc_cell": false,
   "toc_position": {},
   "toc_section_display": true,
   "toc_window_display": false
  }
 },
 "nbformat": 4,
 "nbformat_minor": 5
}
